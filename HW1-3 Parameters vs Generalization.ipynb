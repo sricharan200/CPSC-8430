{
 "cells": [
  {
   "cell_type": "code",
   "execution_count": 1,
   "id": "54e40dcf",
   "metadata": {},
   "outputs": [],
   "source": [
    "import numpy as np\n",
    "import matplotlib.pyplot as plt\n",
    "import torch\n",
    "import torch.nn as nn\n",
    "import torch.nn.functional as F\n",
    "import torch.optim as optim\n",
    "from torchvision import datasets, transforms\n",
    "from torch.autograd import Variable\n",
    "from PIL import Image\n",
    "import os"
   ]
  },
  {
   "cell_type": "code",
   "execution_count": 2,
   "id": "b6b05157",
   "metadata": {},
   "outputs": [],
   "source": [
    "def load_data(train_size, test_size):\n",
    "        trainset = datasets.MNIST('data', train = True, download = False, transform = transforms.Compose([transforms.ToTensor(),transforms.Normalize((0.1307,), (0.3081,))]))\n",
    "        train_data = torch.utils.data.DataLoader(trainset, batch_size=train_size, shuffle=True)\n",
    "        testset = datasets.MNIST('data', train = False, download = False, transform = transforms.Compose([transforms.ToTensor(),transforms.Normalize((0.1307,), (0.3081,))]))\n",
    "        test_data =  torch.utils.data.DataLoader(testset, batch_size=test_size, shuffle=True)\n",
    "        return (train_data, test_data)"
   ]
  },
  {
   "cell_type": "code",
   "execution_count": 3,
   "id": "d5212822",
   "metadata": {},
   "outputs": [],
   "source": [
    "class Model1 (nn.Module):\n",
    "    def __init__(self):\n",
    "        super().__init__()\n",
    "        self.linear1 = nn.Linear(784, 5)\n",
    "        self.linear2 = nn.Linear(5, 9)\n",
    "        self.linear3 = nn.Linear(9, 10)\n",
    "\n",
    "    def forward(self, x):\n",
    "        x = F.relu(self.linear1(x))\n",
    "        x = F.relu(self.linear2(x))\n",
    "        x = self.linear3(x)\n",
    "        return x\n",
    "\n",
    "class Model2 (nn.Module):\n",
    "    def __init__(self):\n",
    "        super().__init__()\n",
    "        self.linear1 = nn.Linear(784, 25)\n",
    "        self.linear2 = nn.Linear(25, 8)\n",
    "        self.linear3 = nn.Linear(8, 10)\n",
    "\n",
    "    def forward(self, x):\n",
    "        x = F.relu(self.linear1(x))\n",
    "        x = F.relu(self.linear2(x))\n",
    "        x = self.linear3(x)\n",
    "        return x\n",
    "    \n",
    "class Model3 (nn.Module):\n",
    "    def __init__(self):\n",
    "        super().__init__()\n",
    "        self.linear1 = nn.Linear(784, 45)\n",
    "        self.linear2 = nn.Linear(45, 8)\n",
    "        self.linear3 = nn.Linear(8, 10)\n",
    "\n",
    "    def forward(self, x):\n",
    "        x = F.relu(self.linear1(x))\n",
    "        x = F.relu(self.linear2(x))\n",
    "        x = self.linear3(x)\n",
    "        return x\n",
    "    \n",
    "class Model4 (nn.Module):\n",
    "    def __init__(self):\n",
    "        super().__init__()\n",
    "        self.linear1 = nn.Linear(784, 65)\n",
    "        self.linear2 = nn.Linear(65, 8)\n",
    "        self.linear3 = nn.Linear(8, 10)\n",
    "\n",
    "    def forward(self, x):\n",
    "        x = F.relu(self.linear1(x))\n",
    "        x = F.relu(self.linear2(x))\n",
    "        x = self.linear3(x)\n",
    "        return x\n",
    "    \n",
    "class Model5 (nn.Module):\n",
    "    def __init__(self):\n",
    "        super().__init__()\n",
    "        self.linear1 = nn.Linear(784, 85)\n",
    "        self.linear2 = nn.Linear(85, 8)\n",
    "        self.linear3 = nn.Linear(8, 10)\n",
    "\n",
    "    def forward(self, x):\n",
    "        x = F.relu(self.linear1(x))\n",
    "        x = F.relu(self.linear2(x))\n",
    "        x = self.linear3(x)\n",
    "        return x\n",
    "    \n",
    "class Model6 (nn.Module):\n",
    "    def __init__(self):\n",
    "        super().__init__()\n",
    "        self.linear1 = nn.Linear(784, 105)\n",
    "        self.linear2 = nn.Linear(105, 8)\n",
    "        self.linear3 = nn.Linear(8, 10)\n",
    "\n",
    "    def forward(self, x):\n",
    "        x = F.relu(self.linear1(x))\n",
    "        x = F.relu(self.linear2(x))\n",
    "        x = self.linear3(x)\n",
    "        return x\n",
    "\n",
    "class Model7 (nn.Module):\n",
    "    def __init__(self):\n",
    "        super().__init__()\n",
    "        self.linear1 = nn.Linear(784, 125)\n",
    "        self.linear2 = nn.Linear(125, 8)\n",
    "        self.linear3 = nn.Linear(8, 10)\n",
    "\n",
    "    def forward(self, x):\n",
    "        x = F.relu(self.linear1(x))\n",
    "        x = F.relu(self.linear2(x))\n",
    "        x = self.linear3(x)\n",
    "        return x\n",
    "    \n",
    "class Model8 (nn.Module):\n",
    "    def __init__(self):\n",
    "        super().__init__()\n",
    "        self.linear1 = nn.Linear(784, 145)\n",
    "        self.linear2 = nn.Linear(145, 8)\n",
    "        self.linear3 = nn.Linear(8, 10)\n",
    "\n",
    "    def forward(self, x):\n",
    "        x = F.relu(self.linear1(x))\n",
    "        x = F.relu(self.linear2(x))\n",
    "        x = self.linear3(x)\n",
    "        return x\n",
    "    \n",
    "class Model9 (nn.Module):\n",
    "    def __init__(self):\n",
    "        super().__init__()\n",
    "        self.linear1 = nn.Linear(784, 165)\n",
    "        self.linear2 = nn.Linear(165, 8)\n",
    "        self.linear3 = nn.Linear(8, 10)\n",
    "\n",
    "    def forward(self, x):\n",
    "        x = F.relu(self.linear1(x))\n",
    "        x = F.relu(self.linear2(x))\n",
    "        x = self.linear3(x)\n",
    "        return x\n",
    "    \n",
    "class Model10 (nn.Module):\n",
    "    def __init__(self):\n",
    "        super().__init__()\n",
    "        self.linear1 = nn.Linear(784, 185)\n",
    "        self.linear2 = nn.Linear(185, 8)\n",
    "        self.linear3 = nn.Linear(8, 10)\n",
    "\n",
    "    def forward(self, x):\n",
    "        x = F.relu(self.linear1(x))\n",
    "        x = F.relu(self.linear2(x))\n",
    "        x = self.linear3(x)\n",
    "        return x"
   ]
  },
  {
   "cell_type": "code",
   "execution_count": 4,
   "id": "3c8f33d9",
   "metadata": {},
   "outputs": [],
   "source": [
    "def train(model, optimizer, data):\n",
    "    model.train()\n",
    "    for batch_id, (data, target) in enumerate(data):\n",
    "        data, target = Variable(data), Variable(target)\n",
    "        optimizer.zero_grad()\n",
    "        output = model(data.view(-1, 784))\n",
    "        loss_fn = torch.nn.CrossEntropyLoss()\n",
    "        loss = loss_fn(output, target)\n",
    "        loss.backward()\n",
    "        optimizer.step()"
   ]
  },
  {
   "cell_type": "code",
   "execution_count": 5,
   "id": "c114dcef",
   "metadata": {},
   "outputs": [],
   "source": [
    "epoch=8\n",
    "parameters = []\n",
    "train_loss_lst = []\n",
    "test_loss_lst = []\n",
    "train_accuracy_lst = []\n",
    "test_accuracy_lst = []\n",
    "def train_models(model, optimizer, train_data, test_data):\n",
    "    print('Training model ')\n",
    "    for epochs in range(1, epoch + 1):\n",
    "        train(model, optimizer, train_data)\n",
    "    loss_train, acc_train = calc_diff(model, train_data)\n",
    "    loss_test, acc_test = calc_diff(model, test_data)\n",
    "    train_loss_lst.append(loss_train)\n",
    "    test_loss_lst.append(loss_test)\n",
    "    train_accuracy_lst.append(acc_train)\n",
    "    test_accuracy_lst.append(acc_test)\n",
    "    total_parameters = sum(p.numel() for p in model.parameters())\n",
    "    parameters.append(total_parameters)\n",
    "    print(\"Total parameters\", total_parameters)\n",
    "    print('Training completed - ' , loss_train)\n",
    "    print('test loss - ', loss_test)\n",
    "    return loss_train, loss_test"
   ]
  },
  {
   "cell_type": "code",
   "execution_count": 6,
   "id": "7356eab1",
   "metadata": {},
   "outputs": [],
   "source": [
    "def calc_diff(model, loader):\n",
    "    count = 0\n",
    "    total = 0\n",
    "    total_cost = 0\n",
    "    counter = 0\n",
    "    loss_funct = torch.nn.CrossEntropyLoss()\n",
    "    with torch.no_grad():\n",
    "        for batch in loader:\n",
    "            data, target = batch\n",
    "            output = model(data.view(-1, 784))\n",
    "            cost = loss_funct(output, target)\n",
    "            total_cost += cost\n",
    "            counter += 1\n",
    "            for i, op in enumerate(output):\n",
    "                if torch.argmax(op) == target[i]:\n",
    "                    count += 1\n",
    "                total += 1\n",
    "    return total_cost / counter, round(count/total, 3)"
   ]
  },
  {
   "cell_type": "code",
   "execution_count": 7,
   "id": "f4b76ad7",
   "metadata": {},
   "outputs": [],
   "source": [
    "train_batch = 50\n",
    "test_batch = 100\n",
    "train_data, test_data = load_data(train_batch, test_batch)"
   ]
  },
  {
   "cell_type": "code",
   "execution_count": 8,
   "id": "423d0dde",
   "metadata": {},
   "outputs": [
    {
     "name": "stdout",
     "output_type": "stream",
     "text": [
      "Model 1\n",
      "Training model \n",
      "Total parameters 4079\n",
      "Training completed -  tensor(0.3235)\n",
      "test loss -  tensor(0.3342)\n"
     ]
    },
    {
     "data": {
      "text/plain": [
       "(tensor(0.3235), tensor(0.3342))"
      ]
     },
     "execution_count": 8,
     "metadata": {},
     "output_type": "execute_result"
    }
   ],
   "source": [
    "model=Model1()\n",
    "print(\"Model 1\")\n",
    "optimizer = torch.optim.Adam(model.parameters(), lr = 1e-3)\n",
    "total_parameters = sum(p.numel() for p in model.parameters())\n",
    "train_models(model, optimizer, train_data, test_data)"
   ]
  },
  {
   "cell_type": "code",
   "execution_count": 9,
   "id": "3c9924b5",
   "metadata": {},
   "outputs": [
    {
     "name": "stdout",
     "output_type": "stream",
     "text": [
      "Model 2\n",
      "Training model \n",
      "Total parameters 19923\n",
      "Training completed -  tensor(0.1059)\n",
      "test loss -  tensor(0.1472)\n"
     ]
    },
    {
     "data": {
      "text/plain": [
       "(tensor(0.1059), tensor(0.1472))"
      ]
     },
     "execution_count": 9,
     "metadata": {},
     "output_type": "execute_result"
    }
   ],
   "source": [
    "model=Model2()\n",
    "print(\"Model 2\")\n",
    "optimizer = torch.optim.Adam(model.parameters(), lr = 1e-3)\n",
    "total_parameters = sum(p.numel() for p in model.parameters())\n",
    "train_models(model, optimizer, train_data, test_data)"
   ]
  },
  {
   "cell_type": "code",
   "execution_count": 10,
   "id": "1aeb350c",
   "metadata": {},
   "outputs": [
    {
     "name": "stdout",
     "output_type": "stream",
     "text": [
      "Model 3\n",
      "Training model \n",
      "Total parameters 35783\n",
      "Training completed -  tensor(0.0696)\n",
      "test loss -  tensor(0.1285)\n"
     ]
    },
    {
     "data": {
      "text/plain": [
       "(tensor(0.0696), tensor(0.1285))"
      ]
     },
     "execution_count": 10,
     "metadata": {},
     "output_type": "execute_result"
    }
   ],
   "source": [
    "model=Model3()\n",
    "print(\"Model 3\")\n",
    "optimizer = torch.optim.Adam(model.parameters(), lr = 1e-3)\n",
    "total_parameters = sum(p.numel() for p in model.parameters())\n",
    "train_models(model, optimizer, train_data, test_data)"
   ]
  },
  {
   "cell_type": "code",
   "execution_count": 11,
   "id": "7cc1d934",
   "metadata": {},
   "outputs": [
    {
     "name": "stdout",
     "output_type": "stream",
     "text": [
      "Model 4\n",
      "Training model \n",
      "Total parameters 51643\n",
      "Training completed -  tensor(0.0460)\n",
      "test loss -  tensor(0.0985)\n"
     ]
    },
    {
     "data": {
      "text/plain": [
       "(tensor(0.0460), tensor(0.0985))"
      ]
     },
     "execution_count": 11,
     "metadata": {},
     "output_type": "execute_result"
    }
   ],
   "source": [
    "model=Model4()\n",
    "print(\"Model 4\")\n",
    "optimizer = torch.optim.Adam(model.parameters(), lr = 1e-3)\n",
    "total_parameters = sum(p.numel() for p in model.parameters())\n",
    "train_models(model, optimizer, train_data, test_data)"
   ]
  },
  {
   "cell_type": "code",
   "execution_count": 12,
   "id": "165d6d95",
   "metadata": {},
   "outputs": [
    {
     "name": "stdout",
     "output_type": "stream",
     "text": [
      "Model 5\n",
      "Training model \n",
      "Total parameters 67503\n",
      "Training completed -  tensor(0.0453)\n",
      "test loss -  tensor(0.1093)\n"
     ]
    },
    {
     "data": {
      "text/plain": [
       "(tensor(0.0453), tensor(0.1093))"
      ]
     },
     "execution_count": 12,
     "metadata": {},
     "output_type": "execute_result"
    }
   ],
   "source": [
    "model=Model5()\n",
    "print(\"Model 5\")\n",
    "optimizer = torch.optim.Adam(model.parameters(), lr = 1e-3)\n",
    "total_parameters = sum(p.numel() for p in model.parameters())\n",
    "train_models(model, optimizer, train_data, test_data)"
   ]
  },
  {
   "cell_type": "code",
   "execution_count": 13,
   "id": "2db42577",
   "metadata": {},
   "outputs": [
    {
     "name": "stdout",
     "output_type": "stream",
     "text": [
      "Model 6\n",
      "Training model \n",
      "Total parameters 83363\n",
      "Training completed -  tensor(0.0381)\n",
      "test loss -  tensor(0.1004)\n"
     ]
    },
    {
     "data": {
      "text/plain": [
       "(tensor(0.0381), tensor(0.1004))"
      ]
     },
     "execution_count": 13,
     "metadata": {},
     "output_type": "execute_result"
    }
   ],
   "source": [
    "model=Model6()\n",
    "print(\"Model 6\")\n",
    "optimizer = torch.optim.Adam(model.parameters(), lr = 1e-3)\n",
    "total_parameters = sum(p.numel() for p in model.parameters())\n",
    "train_models(model, optimizer, train_data, test_data)"
   ]
  },
  {
   "cell_type": "code",
   "execution_count": 14,
   "id": "9556c47b",
   "metadata": {},
   "outputs": [
    {
     "name": "stdout",
     "output_type": "stream",
     "text": [
      "Model 7\n",
      "Training model \n",
      "Total parameters 99223\n",
      "Training completed -  tensor(0.0308)\n",
      "test loss -  tensor(0.1039)\n"
     ]
    },
    {
     "data": {
      "text/plain": [
       "(tensor(0.0308), tensor(0.1039))"
      ]
     },
     "execution_count": 14,
     "metadata": {},
     "output_type": "execute_result"
    }
   ],
   "source": [
    "model=Model7()\n",
    "print(\"Model 7\")\n",
    "optimizer = torch.optim.Adam(model.parameters(), lr = 1e-3)\n",
    "total_parameters = sum(p.numel() for p in model.parameters())\n",
    "train_models(model, optimizer, train_data, test_data)"
   ]
  },
  {
   "cell_type": "code",
   "execution_count": 15,
   "id": "ca859e73",
   "metadata": {},
   "outputs": [
    {
     "name": "stdout",
     "output_type": "stream",
     "text": [
      "Model 8\n",
      "Training model \n",
      "Total parameters 115083\n",
      "Training completed -  tensor(0.0279)\n",
      "test loss -  tensor(0.0968)\n"
     ]
    },
    {
     "data": {
      "text/plain": [
       "(tensor(0.0279), tensor(0.0968))"
      ]
     },
     "execution_count": 15,
     "metadata": {},
     "output_type": "execute_result"
    }
   ],
   "source": [
    "model=Model8()\n",
    "print(\"Model 8\")\n",
    "optimizer = torch.optim.Adam(model.parameters(), lr = 1e-3)\n",
    "total_parameters = sum(p.numel() for p in model.parameters())\n",
    "train_models(model, optimizer, train_data, test_data)"
   ]
  },
  {
   "cell_type": "code",
   "execution_count": 16,
   "id": "34623984",
   "metadata": {},
   "outputs": [
    {
     "name": "stdout",
     "output_type": "stream",
     "text": [
      "Model 9\n",
      "Training model \n",
      "Total parameters 130943\n",
      "Training completed -  tensor(0.0327)\n",
      "test loss -  tensor(0.0935)\n"
     ]
    },
    {
     "data": {
      "text/plain": [
       "(tensor(0.0327), tensor(0.0935))"
      ]
     },
     "execution_count": 16,
     "metadata": {},
     "output_type": "execute_result"
    }
   ],
   "source": [
    "model=Model9()\n",
    "print(\"Model 9\")\n",
    "optimizer = torch.optim.Adam(model.parameters(), lr = 1e-3)\n",
    "total_parameters = sum(p.numel() for p in model.parameters())\n",
    "train_models(model, optimizer, train_data, test_data)"
   ]
  },
  {
   "cell_type": "code",
   "execution_count": 17,
   "id": "9348528e",
   "metadata": {},
   "outputs": [
    {
     "name": "stdout",
     "output_type": "stream",
     "text": [
      "Model 10\n",
      "Training model \n",
      "Total parameters 146803\n",
      "Training completed -  tensor(0.0188)\n",
      "test loss -  tensor(0.0883)\n"
     ]
    },
    {
     "data": {
      "text/plain": [
       "(tensor(0.0188), tensor(0.0883))"
      ]
     },
     "execution_count": 17,
     "metadata": {},
     "output_type": "execute_result"
    }
   ],
   "source": [
    "model=Model10()\n",
    "print(\"Model 10\")\n",
    "optimizer = torch.optim.Adam(model.parameters(), lr = 1e-3)\n",
    "total_parameters = sum(p.numel() for p in model.parameters())\n",
    "train_models(model, optimizer, train_data, test_data)"
   ]
  },
  {
   "cell_type": "code",
   "execution_count": 22,
   "id": "86bb34e3",
   "metadata": {},
   "outputs": [
    {
     "data": {
      "image/png": "[encoded data removed]",
      "text/plain": [
       "<Figure size 640x480 with 1 Axes>"
      ]
     },
     "metadata": {},
     "output_type": "display_data"
    }
   ],
   "source": [
    "plt.xlabel('Parameters')\n",
    "plt.ylabel('Accuracy')\n",
    "plt.title('Model Accuracy')\n",
    "plt.scatter(parameters, train_accuracy_lst,  color = \"blue\")\n",
    "plt.scatter(parameters, test_accuracy_lst,  color = \"green\")\n",
    "plt.legend(['Training Accuracy', 'Testing Accuracy'])\n",
    "plt.show()"
   ]
  },
  {
   "cell_type": "code",
   "execution_count": 23,
   "id": "308148d0",
   "metadata": {},
   "outputs": [
    {
     "data": {
      "image/png": "[encoded data removed]",
      "text/plain": [
       "<Figure size 1200x600 with 1 Axes>"
      ]
     },
     "metadata": {},
     "output_type": "display_data"
    }
   ],
   "source": [
    "plt.figure(figsize=(12,6))\n",
    "plt.scatter(parameters, train_loss_lst, color = \"blue\")\n",
    "plt.scatter(parameters, test_loss_lst, color = \"green\")\n",
    "plt.title('Model Loss')\n",
    "plt.legend(['Training Loss', 'Testing Loss'])\n",
    "plt.xlabel('Parameters')\n",
    "plt.ylabel('Loss')\n",
    "plt.show()"
   ]
  },
  {
   "cell_type": "code",
   "execution_count": null,
   "id": "fb507bfd-2142-4a3d-9355-d1f3d31896e7",
   "metadata": {},
   "outputs": [],
   "source": []
  }
 ],
 "metadata": {
  "kernelspec": {
   "display_name": "Python 3",
   "language": "python",
   "name": "python3"
  },
  "language_info": {
   "codemirror_mode": {
    "name": "ipython",
    "version": 3
   },
   "file_extension": ".py",
   "mimetype": "text/x-python",
   "name": "python",
   "nbconvert_exporter": "python",
   "pygments_lexer": "ipython3",
   "version": "3.8.8"
  }
 },
 "nbformat": 4,
 "nbformat_minor": 5
}

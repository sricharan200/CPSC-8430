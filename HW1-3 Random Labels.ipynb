{
 "cells": [
  {
   "cell_type": "code",
   "execution_count": 1,
   "id": "c6e76bad",
   "metadata": {},
   "outputs": [],
   "source": [
    "import torch\n",
    "import torch.nn as nn\n",
    "import torch.optim as optim\n",
    "from torchvision import datasets, transforms\n",
    "from torch.autograd import Variable\n",
    "from PIL import Image\n",
    "import torch.nn.functional as F\n",
    "import numpy as np\n",
    "import matplotlib.pyplot as plt\n",
    "import os"
   ]
  },
  {
   "cell_type": "code",
   "execution_count": 2,
   "id": "3b37278c",
   "metadata": {},
   "outputs": [],
   "source": [
    "os.environ['KMP_DUPLICATE_LIB_OK']='True'"
   ]
  },
  {
   "cell_type": "code",
   "execution_count": 3,
   "id": "e67031e4",
   "metadata": {},
   "outputs": [
    {
     "data": {
      "text/plain": [
       "<torch._C.Generator at 0x154c2411bfb0>"
      ]
     },
     "execution_count": 3,
     "metadata": {},
     "output_type": "execute_result"
    }
   ],
   "source": [
    "torch.manual_seed(1)"
   ]
  },
  {
   "cell_type": "code",
   "execution_count": 4,
   "id": "be58cb4b",
   "metadata": {},
   "outputs": [],
   "source": [
    "def load_labels(train_size, test_size):      \n",
    "    trainset = datasets.MNIST('data', train = True, download = False, transform = transforms.Compose([transforms.Resize((32,32)),transforms.ToTensor(),transforms.Normalize((0.1307,), (0.3081,))]))\n",
    "    temp = torch.tensor(np.random.randint(0, 10, (len(trainset)),))\n",
    "    trainset.targets = temp\n",
    "    train_loader = torch.utils.data.DataLoader(trainset, batch_size=train_size, shuffle=True)\n",
    "    testset = datasets.MNIST('data', train = False, transform = transforms.Compose([transforms.Resize((32, 32)),transforms.ToTensor(),transforms.Normalize((0.1307,), (0.3081,))]))\n",
    "    test_loader = torch.utils.data.DataLoader(testset ,batch_size = test_size, shuffle=True)\n",
    "    return (train_loader, test_loader)"
   ]
  },
  {
   "cell_type": "code",
   "execution_count": 5,
   "id": "ca426796",
   "metadata": {},
   "outputs": [],
   "source": [
    "class CNN(nn.Module):\n",
    "    def __init__(self):\n",
    "        super(CNN, self).__init__()\n",
    "        \n",
    "        self.cn1 = nn.Conv2d(1, 6, 5)\n",
    "        self.cn2 = nn.Conv2d(6, 16, 5)\n",
    "        self.lin1 = nn.Linear(16 * 5 * 5, 120)\n",
    "        self.lin2 = nn.Linear(120, 84)\n",
    "        self.lin3 = nn.Linear(84, 10)\n",
    "\n",
    "    def forward(self, a):\n",
    "        a = F.max_pool2d(F.relu(self.cn1(a)), 2)\n",
    "        a = F.max_pool2d(F.relu(self.cn2(a)), 2)\n",
    "        a = a.view(a.size()[0], -1)\n",
    "        a = F.relu(self.lin1(a))\n",
    "        a = F.relu(self.lin2(a))\n",
    "        a = self.lin3(a)\n",
    "        return a"
   ]
  },
  {
   "cell_type": "code",
   "execution_count": 6,
   "id": "817539b5",
   "metadata": {},
   "outputs": [],
   "source": [
    "train_size = 100\n",
    "test_size = 100\n",
    "train_loader, test_loader = load_labels(train_size, test_size)"
   ]
  },
  {
   "cell_type": "code",
   "execution_count": 7,
   "id": "ea85df3f",
   "metadata": {},
   "outputs": [],
   "source": [
    "def train(model, optimizer, train_loader):\n",
    "    model.train()\n",
    "    c = 0\n",
    "    train_loss = 0\n",
    "    flag = 0\n",
    "\n",
    "    for batch, (data, target) in enumerate(train_loader):\n",
    "        flag += 1\n",
    "        data, target = Variable(data), Variable(target)\n",
    "        optimizer.zero_grad()\n",
    "        op = model(data)\n",
    "        loss = loss_funct(op, target)\n",
    "        loss.backward()\n",
    "        optimizer.step()\n",
    "\n",
    "        train_loss += loss.data\n",
    "\n",
    "        predict = np.argmax(op.data, axis=1)\n",
    "        c+= np.equal(predict, target.data).sum()\n",
    "    \n",
    "    train_loss = (train_loss * 100) / len(train_loader.dataset)\n",
    "    acc = 100.0 * c / len(train_loader.dataset)\n",
    "    return train_loss, acc"
   ]
  },
  {
   "cell_type": "code",
   "execution_count": 8,
   "id": "dc360d31",
   "metadata": {},
   "outputs": [],
   "source": [
    "def test(model, epoch, test_loader):\n",
    "    model.eval()\n",
    "    tot_loss = 0\n",
    "    c = 0\n",
    "    for data, target in test_loader:\n",
    "        data, target = Variable(data), Variable(target)\n",
    "        output = model(data)\n",
    "        loss = loss_funct(output, target)\n",
    "        tot_loss += loss.data\n",
    "        predict = np.argmax(output.data, axis = 1)\n",
    "        c = c + np.equal(predict, target.data).sum()\n",
    "    tot_loss = (tot_loss * 100) / len(test_loader.dataset)\n",
    "    print('\\nTest set, Epoch {} , Average loss: {:.4f}, Accuracy: {}/{} ({:.0f}%)\\n'.format(epoch,\n",
    "        tot_loss, c, len(test_loader.dataset),\n",
    "        100. * c / len(test_loader.dataset)))\n",
    "    return tot_loss"
   ]
  },
  {
   "cell_type": "code",
   "execution_count": 9,
   "id": "76907bba",
   "metadata": {},
   "outputs": [
    {
     "name": "stdout",
     "output_type": "stream",
     "text": [
      "\n",
      "Test set, Epoch 1 , Average loss: 2.3041, Accuracy: 892/10000 (9%)\n",
      "\n",
      "\n",
      "Test set, Epoch 2 , Average loss: 2.3030, Accuracy: 977/10000 (10%)\n",
      "\n",
      "\n",
      "Test set, Epoch 3 , Average loss: 2.3029, Accuracy: 1032/10000 (10%)\n",
      "\n",
      "\n",
      "Test set, Epoch 4 , Average loss: 2.3037, Accuracy: 999/10000 (10%)\n",
      "\n",
      "\n",
      "Test set, Epoch 5 , Average loss: 2.3033, Accuracy: 1032/10000 (10%)\n",
      "\n",
      "\n",
      "Test set, Epoch 6 , Average loss: 2.3041, Accuracy: 1032/10000 (10%)\n",
      "\n",
      "\n",
      "Test set, Epoch 7 , Average loss: 2.3006, Accuracy: 988/10000 (10%)\n",
      "\n",
      "\n",
      "Test set, Epoch 8 , Average loss: 2.3051, Accuracy: 597/10000 (6%)\n",
      "\n",
      "\n",
      "Test set, Epoch 9 , Average loss: 2.2988, Accuracy: 1388/10000 (14%)\n",
      "\n",
      "\n",
      "Test set, Epoch 10 , Average loss: 2.3075, Accuracy: 1279/10000 (13%)\n",
      "\n",
      "\n",
      "Test set, Epoch 11 , Average loss: 2.3058, Accuracy: 1309/10000 (13%)\n",
      "\n",
      "\n",
      "Test set, Epoch 12 , Average loss: 2.3119, Accuracy: 1145/10000 (11%)\n",
      "\n",
      "\n",
      "Test set, Epoch 13 , Average loss: 2.3003, Accuracy: 1081/10000 (11%)\n",
      "\n",
      "\n",
      "Test set, Epoch 14 , Average loss: 2.2999, Accuracy: 1079/10000 (11%)\n",
      "\n",
      "\n",
      "Test set, Epoch 15 , Average loss: 2.3178, Accuracy: 984/10000 (10%)\n",
      "\n",
      "\n",
      "Test set, Epoch 16 , Average loss: 2.3183, Accuracy: 1096/10000 (11%)\n",
      "\n",
      "\n",
      "Test set, Epoch 17 , Average loss: 2.3433, Accuracy: 1061/10000 (11%)\n",
      "\n",
      "\n",
      "Test set, Epoch 18 , Average loss: 2.3478, Accuracy: 1019/10000 (10%)\n",
      "\n",
      "\n",
      "Test set, Epoch 19 , Average loss: 2.3767, Accuracy: 971/10000 (10%)\n",
      "\n",
      "\n",
      "Test set, Epoch 20 , Average loss: 2.4068, Accuracy: 975/10000 (10%)\n",
      "\n",
      "\n",
      "Test set, Epoch 21 , Average loss: 2.3940, Accuracy: 1020/10000 (10%)\n",
      "\n",
      "\n",
      "Test set, Epoch 22 , Average loss: 2.4245, Accuracy: 961/10000 (10%)\n",
      "\n",
      "\n",
      "Test set, Epoch 23 , Average loss: 2.4418, Accuracy: 963/10000 (10%)\n",
      "\n",
      "\n",
      "Test set, Epoch 24 , Average loss: 2.4744, Accuracy: 1041/10000 (10%)\n",
      "\n",
      "\n",
      "Test set, Epoch 25 , Average loss: 2.4777, Accuracy: 995/10000 (10%)\n",
      "\n",
      "\n",
      "Test set, Epoch 26 , Average loss: 2.5305, Accuracy: 956/10000 (10%)\n",
      "\n",
      "\n",
      "Test set, Epoch 27 , Average loss: 2.5196, Accuracy: 1051/10000 (11%)\n",
      "\n",
      "\n",
      "Test set, Epoch 28 , Average loss: 2.5373, Accuracy: 1060/10000 (11%)\n",
      "\n",
      "\n",
      "Test set, Epoch 29 , Average loss: 2.5649, Accuracy: 1010/10000 (10%)\n",
      "\n",
      "\n",
      "Test set, Epoch 30 , Average loss: 2.6135, Accuracy: 939/10000 (9%)\n",
      "\n"
     ]
    }
   ],
   "source": [
    "model = CNN()\n",
    "optimizer = optim.Adam(model.parameters(), lr=0.001)\n",
    "train1 = []\n",
    "test1 = []\n",
    "e1 = []\n",
    "epochs = 30\n",
    "loss_funct = nn.CrossEntropyLoss()\n",
    "for epoch in range(1, epochs + 1):\n",
    "    e_train_loss, accuracy = train(model, optimizer, train_loader)\n",
    "    train1.append(e_train_loss)\n",
    "    test_loss = test(model, epoch, test_loader)\n",
    "    test1.append(test_loss)\n",
    "    e1.append(epoch)"
   ]
  },
  {
   "cell_type": "code",
   "execution_count": 10,
   "id": "aa898883",
   "metadata": {},
   "outputs": [
    {
     "data": {
      "image/png": "[encoded data removed]",
      "text/plain": [
       "<Figure size 640x480 with 1 Axes>"
      ]
     },
     "metadata": {},
     "output_type": "display_data"
    }
   ],
   "source": [
    "plt.plot(e1, test1, color = \"blue\")\n",
    "plt.plot(e1, train1, color = \"red\")\n",
    "plt.xlabel('Epoch')\n",
    "plt.ylabel('Loss')\n",
    "plt.legend(['Testing', 'Training'])\n",
    "plt.show()"
   ]
  },
  {
   "cell_type": "code",
   "execution_count": null,
   "id": "e9f32cdc",
   "metadata": {},
   "outputs": [],
   "source": []
  }
 ],
 "metadata": {
  "kernelspec": {
   "display_name": "Python 3",
   "language": "python",
   "name": "python3"
  },
  "language_info": {
   "codemirror_mode": {
    "name": "ipython",
    "version": 3
   },
   "file_extension": ".py",
   "mimetype": "text/x-python",
   "name": "python",
   "nbconvert_exporter": "python",
   "pygments_lexer": "ipython3",
   "version": "3.8.8"
  }
 },
 "nbformat": 4,
 "nbformat_minor": 5
}
